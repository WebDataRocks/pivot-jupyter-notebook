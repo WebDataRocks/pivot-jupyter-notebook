{
 "cells": [
  {
   "cell_type": "markdown",
   "metadata": {},
   "source": [
    "# Exploratory data analysis with WebDataRocks Pivot Table & Charts"
   ]
  },
  {
   "cell_type": "code",
   "execution_count": 30,
   "metadata": {},
   "outputs": [],
   "source": [
    "# Imports:\n",
    "\n",
    "from IPython.display import HTML\n",
    "import json\n",
    "import pandas as pd"
   ]
  },
  {
   "cell_type": "markdown",
   "metadata": {},
   "source": [
    "## 1) WebDataRocks example:"
   ]
  },
  {
   "cell_type": "code",
   "execution_count": 31,
   "metadata": {},
   "outputs": [],
   "source": [
    "# Display WebDataRocks in HTML:\n",
    "\n",
    "def pivot(webdatarocks_json_object):\n",
    "    \n",
    "    code = '''\n",
    "      <link href=\"https://cdn.webdatarocks.com/latest/webdatarocks.min.css\" rel=\"stylesheet\"/>\n",
    "      <script src=\"https://cdn.webdatarocks.com/latest/webdatarocks.toolbar.min.js\"></script>\n",
    "      <script src=\"https://cdn.webdatarocks.com/latest/webdatarocks.js\"></script>\n",
    "      <h1>WebDataRocks Integration with Jupyter Notebook</h1>\n",
    "      <div id=\"pivot-container1\"></div>\n",
    "      <script>\n",
    "      new WebDataRocks({0});\n",
    "      </script>\n",
    "      '''.format(webdatarocks_json_object)\n",
    "    return HTML(code)\n"
   ]
  },
  {
   "cell_type": "code",
   "execution_count": 32,
   "metadata": {
    "scrolled": true
   },
   "outputs": [
    {
     "data": {
      "text/html": [
       "\n",
       "      <link href=\"https://cdn.webdatarocks.com/latest/webdatarocks.min.css\" rel=\"stylesheet\"/>\n",
       "      <script src=\"https://cdn.webdatarocks.com/latest/webdatarocks.toolbar.min.js\"></script>\n",
       "      <script src=\"https://cdn.webdatarocks.com/latest/webdatarocks.js\"></script>\n",
       "      <h1>WebDataRocks Integration with Jupyter Notebook</h1>\n",
       "      <div id=\"pivot-container1\"></div>\n",
       "      <script>\n",
       "      new WebDataRocks({\"container\": \"#pivot-container1\", \"width\": \"100%\", \"height\": 430, \"toolbar\": true, \"report\": {\"dataSource\": {\"type\": \"json\", \"data\": [{\"Product\": \"Apple pie\", \"Quantity\": \"20\"}, {\"Product\": \"Lemon cake\", \"Quantity\": \"30\"}]}, \"slice\": {\"rows\": [{\"uniqueName\": \"Product\"}], \"columns\": [{\"uniqueName\": \"[Measures]\"}], \"measures\": [{\"uniqueName\": \"Quantity\", \"aggregation\": \"sum\"}]}}});\n",
       "      </script>\n",
       "      "
      ],
      "text/plain": [
       "<IPython.core.display.HTML object>"
      ]
     },
     "execution_count": 32,
     "metadata": {},
     "output_type": "execute_result"
    }
   ],
   "source": [
    "# Define data with pandas:\n",
    "\n",
    "df = pd.DataFrame([['Apple pie', '20'], ['Lemon cake', '30']], index=['row 1', 'row 2'], columns=['Product', 'Quantity'])\n",
    "json_data = df.to_json(orient='records')\n",
    "\n",
    "\n",
    "\n",
    "# Define WebDataRocks\n",
    "\n",
    "webdatarocks = {\n",
    "    \"container\": \"#pivot-container1\",\n",
    "    \"width\": \"100%\",\n",
    "    \"height\": 430,\n",
    "    \"toolbar\": True,\n",
    "    \"report\": {\n",
    "        \"dataSource\": {\n",
    "            \"type\": \"json\",\n",
    "            \"data\": json.loads(json_data)\n",
    "        },\n",
    "        \"slice\": {\n",
    "            \"rows\": [\n",
    "                {\n",
    "                    \"uniqueName\": \"Product\"\n",
    "                }\n",
    "            ],\n",
    "            \"columns\": [\n",
    "                {\n",
    "                    \"uniqueName\": \"[Measures]\"\n",
    "                }\n",
    "            ],\n",
    "            \"measures\": [\n",
    "                {\n",
    "                    \"uniqueName\": \"Quantity\",\n",
    "                    \"aggregation\": \"sum\"\n",
    "                }\n",
    "            ]\n",
    "        }\n",
    "    }\n",
    "}\n",
    "\n",
    "\n",
    "# convert into JSON:\n",
    "webdatarocks_json_object = json.dumps(webdatarocks)\n",
    "\n",
    "# display:\n",
    "pivot(webdatarocks_json_object)\n"
   ]
  },
  {
   "cell_type": "markdown",
   "metadata": {},
   "source": [
    "## 2) WebDataRocks with events example:"
   ]
  },
  {
   "cell_type": "code",
   "execution_count": 33,
   "metadata": {},
   "outputs": [],
   "source": [
    "# Displaying WebDataRocks with events in HTML example:\n",
    "\n",
    "def pivot_with_events(webdatarocks_json_object, reportchange_handler='''''', toolbar_handler=''''''):\n",
    "    \n",
    "    code = '''\n",
    "      <link href=\"https://cdn.webdatarocks.com/latest/webdatarocks.min.css\" rel=\"stylesheet\"/>\n",
    "      <script src=\"https://cdn.webdatarocks.com/latest/webdatarocks.toolbar.min.js\"></script>\n",
    "      <script src=\"https://cdn.webdatarocks.com/latest/webdatarocks.js\"></script>\n",
    "      <h1>WebDataRocks Integration with Jupyter Notebook</h1>\n",
    "      <div id=\"pivot-container2\"></div>\n",
    "      <script>\n",
    "      var pivot = new WebDataRocks({0});\n",
    "      {1}\n",
    "      {2}\n",
    "      </script>\n",
    "      '''.format(webdatarocks_json_object, reportchange_handler, toolbar_handler)\n",
    "    return HTML(code)"
   ]
  },
  {
   "cell_type": "code",
   "execution_count": 34,
   "metadata": {},
   "outputs": [
    {
     "data": {
      "text/html": [
       "\n",
       "      <link href=\"https://cdn.webdatarocks.com/latest/webdatarocks.min.css\" rel=\"stylesheet\"/>\n",
       "      <script src=\"https://cdn.webdatarocks.com/latest/webdatarocks.toolbar.min.js\"></script>\n",
       "      <script src=\"https://cdn.webdatarocks.com/latest/webdatarocks.js\"></script>\n",
       "      <h1>WebDataRocks Integration with Jupyter Notebook</h1>\n",
       "      <div id=\"pivot-container2\"></div>\n",
       "      <script>\n",
       "      var pivot = new WebDataRocks({\"container\": \"#pivot-container2\", \"width\": \"100%\", \"height\": 430, \"toolbar\": true, \"report\": {\"dataSource\": {\"type\": \"json\", \"data\": [{\"Product\": \"Apple pie\", \"Quantity\": \"20\"}, {\"Product\": \"Lemon cake\", \"Quantity\": \"30\"}]}, \"slice\": {\"rows\": [{\"uniqueName\": \"Product\"}], \"columns\": [{\"uniqueName\": \"[Measures]\"}], \"measures\": [{\"uniqueName\": \"Quantity\", \"aggregation\": \"sum\"}]}}});\n",
       "       webdatarocks.on(\"reportchange\", ()=>{alert(\"Changed!\")}); \n",
       "       webdatarocks.on(\"beforetoolbarcreated\",  (toolbar) => {\n",
       "    // get all tabs\n",
       "    var tabs = toolbar.getTabs(); \n",
       "    toolbar.getTabs = function () {\n",
       "        // add new tab\n",
       "        tabs.unshift({\n",
       "            id: \"fm-tab-newtab\",\n",
       "            title: \"New Tab\",\n",
       "            handler: newtabHandler,\n",
       "            icon: this.icons.open\n",
       "        });\n",
       "        return tabs;\n",
       "    }\n",
       "\n",
       "    var newtabHandler = function() {\n",
       "       alert(\"New Tab Handler!\")\n",
       "    }  \n",
       "}); \n",
       "      </script>\n",
       "      "
      ],
      "text/plain": [
       "<IPython.core.display.HTML object>"
      ]
     },
     "execution_count": 34,
     "metadata": {},
     "output_type": "execute_result"
    }
   ],
   "source": [
    "# Define data with pandas:\n",
    "\n",
    "df = pd.DataFrame([['Apple pie', '20'], ['Lemon cake', '30']], index=['row 1', 'row 2'], columns=['Product', 'Quantity'])\n",
    "json_data = df.to_json(orient='records')\n",
    "\n",
    "# Define WebDataRocks.\n",
    "\n",
    "webdatarocks = {\n",
    "    \"container\": \"#pivot-container2\",\n",
    "    \"width\": \"100%\",\n",
    "    \"height\": 430,\n",
    "    \"toolbar\": True,\n",
    "    \"report\": {\n",
    "        \"dataSource\": {\n",
    "            \"type\": \"json\",\n",
    "            \"data\": json.loads(json_data)\n",
    "        },\n",
    "        \"slice\": {\n",
    "            \"rows\": [\n",
    "                {\n",
    "                    \"uniqueName\": \"Product\"\n",
    "                }\n",
    "            ],\n",
    "            \"columns\": [\n",
    "                {\n",
    "                    \"uniqueName\": \"[Measures]\"\n",
    "                }\n",
    "            ],\n",
    "            \"measures\": [\n",
    "                {\n",
    "                    \"uniqueName\": \"Quantity\",\n",
    "                    \"aggregation\": \"sum\"\n",
    "                }\n",
    "            ]\n",
    "        }\n",
    "    }\n",
    "}\n",
    "\n",
    "# Define event handlers.\n",
    "\n",
    "reportchange_handler = ''' webdatarocks.on(\"reportchange\", ()=>{alert(\"Changed!\")}); '''\n",
    "    \n",
    "customize_toolbar = ''' (toolbar) => {\n",
    "    // get all tabs\n",
    "    var tabs = toolbar.getTabs(); \n",
    "    toolbar.getTabs = function () {\n",
    "        // add new tab\n",
    "        tabs.unshift({\n",
    "            id: \"fm-tab-newtab\",\n",
    "            title: \"New Tab\",\n",
    "            handler: newtabHandler,\n",
    "            icon: this.icons.open\n",
    "        });\n",
    "        return tabs;\n",
    "    }\n",
    "\n",
    "    var newtabHandler = function() {\n",
    "       alert(\"New Tab Handler!\")\n",
    "    }  \n",
    "}'''\n",
    "\n",
    "toolbar_handler =  ''' webdatarocks.on(\"beforetoolbarcreated\", {0}); '''.format(customize_toolbar)\n",
    "\n",
    "# convert into JSON:\n",
    "webdatarocks_json_object = json.dumps(webdatarocks)\n",
    "\n",
    "# display:\n",
    "pivot_with_events(webdatarocks_json_object, reportchange_handler, toolbar_handler)\n"
   ]
  },
  {
   "cell_type": "code",
   "execution_count": null,
   "metadata": {},
   "outputs": [],
   "source": []
  }
 ],
 "metadata": {
  "kernelspec": {
   "display_name": "Python 3",
   "language": "python",
   "name": "python3"
  },
  "language_info": {
   "codemirror_mode": {
    "name": "ipython",
    "version": 3
   },
   "file_extension": ".py",
   "mimetype": "text/x-python",
   "name": "python",
   "nbconvert_exporter": "python",
   "pygments_lexer": "ipython3",
   "version": "3.6.9"
  }
 },
 "nbformat": 4,
 "nbformat_minor": 2
}
